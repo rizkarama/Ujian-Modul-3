{
 "metadata": {
  "language_info": {
   "codemirror_mode": {
    "name": "ipython",
    "version": 3
   },
   "file_extension": ".py",
   "mimetype": "text/x-python",
   "name": "python",
   "nbconvert_exporter": "python",
   "pygments_lexer": "ipython3",
   "version": "3.8.3-final"
  },
  "orig_nbformat": 2,
  "kernelspec": {
   "name": "python3",
   "display_name": "Python 3",
   "language": "python"
  }
 },
 "nbformat": 4,
 "nbformat_minor": 2,
 "cells": [
  {
   "source": [
    "## Preprocessing"
   ],
   "cell_type": "markdown",
   "metadata": {}
  },
  {
   "cell_type": "code",
   "execution_count": 98,
   "metadata": {},
   "outputs": [],
   "source": [
    "import pandas as pd\n",
    "import numpy as np"
   ]
  },
  {
   "cell_type": "code",
   "execution_count": 99,
   "metadata": {},
   "outputs": [],
   "source": [
    "from sklearn.preprocessing import OneHotEncoder\n",
    "from sklearn.compose import ColumnTransformer\n",
    "import category_encoders as ce"
   ]
  },
  {
   "cell_type": "code",
   "execution_count": 117,
   "metadata": {},
   "outputs": [
    {
     "output_type": "execute_result",
     "data": {
      "text/plain": [
       "          hotel  is_canceled  lead_time  arrival_date_year arrival_date_month  \\\n",
       "0  Resort Hotel            0        342               2015               July   \n",
       "1  Resort Hotel            0        737               2015               July   \n",
       "2  Resort Hotel            0          7               2015               July   \n",
       "3  Resort Hotel            0         13               2015               July   \n",
       "4  Resort Hotel            0         14               2015               July   \n",
       "\n",
       "   arrival_date_week_number  arrival_date_day_of_month  \\\n",
       "0                        27                          1   \n",
       "1                        27                          1   \n",
       "2                        27                          1   \n",
       "3                        27                          1   \n",
       "4                        27                          1   \n",
       "\n",
       "   stays_in_weekend_nights  stays_in_week_nights  adults  ...  deposit_type  \\\n",
       "0                        0                     0       2  ...    No Deposit   \n",
       "1                        0                     0       2  ...    No Deposit   \n",
       "2                        0                     1       1  ...    No Deposit   \n",
       "3                        0                     1       1  ...    No Deposit   \n",
       "4                        0                     2       2  ...    No Deposit   \n",
       "\n",
       "   agent company days_in_waiting_list customer_type   adr  \\\n",
       "0    NaN     NaN                    0     Transient   0.0   \n",
       "1    NaN     NaN                    0     Transient   0.0   \n",
       "2    NaN     NaN                    0     Transient  75.0   \n",
       "3  304.0     NaN                    0     Transient  75.0   \n",
       "4  240.0     NaN                    0     Transient  98.0   \n",
       "\n",
       "   required_car_parking_spaces  total_of_special_requests  reservation_status  \\\n",
       "0                            0                          0           Check-Out   \n",
       "1                            0                          0           Check-Out   \n",
       "2                            0                          0           Check-Out   \n",
       "3                            0                          0           Check-Out   \n",
       "4                            0                          1           Check-Out   \n",
       "\n",
       "  reservation_status_date  \n",
       "0              2015-07-01  \n",
       "1              2015-07-01  \n",
       "2              2015-07-02  \n",
       "3              2015-07-02  \n",
       "4              2015-07-03  \n",
       "\n",
       "[5 rows x 32 columns]"
      ],
      "text/html": "<div>\n<style scoped>\n    .dataframe tbody tr th:only-of-type {\n        vertical-align: middle;\n    }\n\n    .dataframe tbody tr th {\n        vertical-align: top;\n    }\n\n    .dataframe thead th {\n        text-align: right;\n    }\n</style>\n<table border=\"1\" class=\"dataframe\">\n  <thead>\n    <tr style=\"text-align: right;\">\n      <th></th>\n      <th>hotel</th>\n      <th>is_canceled</th>\n      <th>lead_time</th>\n      <th>arrival_date_year</th>\n      <th>arrival_date_month</th>\n      <th>arrival_date_week_number</th>\n      <th>arrival_date_day_of_month</th>\n      <th>stays_in_weekend_nights</th>\n      <th>stays_in_week_nights</th>\n      <th>adults</th>\n      <th>...</th>\n      <th>deposit_type</th>\n      <th>agent</th>\n      <th>company</th>\n      <th>days_in_waiting_list</th>\n      <th>customer_type</th>\n      <th>adr</th>\n      <th>required_car_parking_spaces</th>\n      <th>total_of_special_requests</th>\n      <th>reservation_status</th>\n      <th>reservation_status_date</th>\n    </tr>\n  </thead>\n  <tbody>\n    <tr>\n      <th>0</th>\n      <td>Resort Hotel</td>\n      <td>0</td>\n      <td>342</td>\n      <td>2015</td>\n      <td>July</td>\n      <td>27</td>\n      <td>1</td>\n      <td>0</td>\n      <td>0</td>\n      <td>2</td>\n      <td>...</td>\n      <td>No Deposit</td>\n      <td>NaN</td>\n      <td>NaN</td>\n      <td>0</td>\n      <td>Transient</td>\n      <td>0.0</td>\n      <td>0</td>\n      <td>0</td>\n      <td>Check-Out</td>\n      <td>2015-07-01</td>\n    </tr>\n    <tr>\n      <th>1</th>\n      <td>Resort Hotel</td>\n      <td>0</td>\n      <td>737</td>\n      <td>2015</td>\n      <td>July</td>\n      <td>27</td>\n      <td>1</td>\n      <td>0</td>\n      <td>0</td>\n      <td>2</td>\n      <td>...</td>\n      <td>No Deposit</td>\n      <td>NaN</td>\n      <td>NaN</td>\n      <td>0</td>\n      <td>Transient</td>\n      <td>0.0</td>\n      <td>0</td>\n      <td>0</td>\n      <td>Check-Out</td>\n      <td>2015-07-01</td>\n    </tr>\n    <tr>\n      <th>2</th>\n      <td>Resort Hotel</td>\n      <td>0</td>\n      <td>7</td>\n      <td>2015</td>\n      <td>July</td>\n      <td>27</td>\n      <td>1</td>\n      <td>0</td>\n      <td>1</td>\n      <td>1</td>\n      <td>...</td>\n      <td>No Deposit</td>\n      <td>NaN</td>\n      <td>NaN</td>\n      <td>0</td>\n      <td>Transient</td>\n      <td>75.0</td>\n      <td>0</td>\n      <td>0</td>\n      <td>Check-Out</td>\n      <td>2015-07-02</td>\n    </tr>\n    <tr>\n      <th>3</th>\n      <td>Resort Hotel</td>\n      <td>0</td>\n      <td>13</td>\n      <td>2015</td>\n      <td>July</td>\n      <td>27</td>\n      <td>1</td>\n      <td>0</td>\n      <td>1</td>\n      <td>1</td>\n      <td>...</td>\n      <td>No Deposit</td>\n      <td>304.0</td>\n      <td>NaN</td>\n      <td>0</td>\n      <td>Transient</td>\n      <td>75.0</td>\n      <td>0</td>\n      <td>0</td>\n      <td>Check-Out</td>\n      <td>2015-07-02</td>\n    </tr>\n    <tr>\n      <th>4</th>\n      <td>Resort Hotel</td>\n      <td>0</td>\n      <td>14</td>\n      <td>2015</td>\n      <td>July</td>\n      <td>27</td>\n      <td>1</td>\n      <td>0</td>\n      <td>2</td>\n      <td>2</td>\n      <td>...</td>\n      <td>No Deposit</td>\n      <td>240.0</td>\n      <td>NaN</td>\n      <td>0</td>\n      <td>Transient</td>\n      <td>98.0</td>\n      <td>0</td>\n      <td>1</td>\n      <td>Check-Out</td>\n      <td>2015-07-03</td>\n    </tr>\n  </tbody>\n</table>\n<p>5 rows × 32 columns</p>\n</div>"
     },
     "metadata": {},
     "execution_count": 117
    }
   ],
   "source": [
    "hotel = pd.read_csv('hotel_bookings.csv')\n",
    "hotel.head()"
   ]
  },
  {
   "cell_type": "code",
   "execution_count": 118,
   "metadata": {},
   "outputs": [],
   "source": [
    "df = hotel[:5000] #mengambil 5000 data pertama"
   ]
  },
  {
   "cell_type": "code",
   "execution_count": 119,
   "metadata": {},
   "outputs": [
    {
     "output_type": "execute_result",
     "data": {
      "text/plain": [
       "(5000, 32)"
      ]
     },
     "metadata": {},
     "execution_count": 119
    }
   ],
   "source": [
    "df.shape #cek bentuk df"
   ]
  },
  {
   "cell_type": "code",
   "execution_count": 121,
   "metadata": {},
   "outputs": [],
   "source": [
    "df_baru = df[['hotel', 'is_canceled', 'adults', 'children', 'babies', 'meal', 'country', 'market_segment', 'distribution_channel', 'reserved_room_type', 'booking_changes', 'deposit_type', 'days_in_waiting_list', 'customer_type', 'required_car_parking_spaces', 'total_of_special_requests']]"
   ]
  },
  {
   "cell_type": "code",
   "execution_count": 127,
   "metadata": {},
   "outputs": [
    {
     "output_type": "execute_result",
     "data": {
      "text/plain": [
       "(5000, 16)"
      ]
     },
     "metadata": {},
     "execution_count": 127
    }
   ],
   "source": [
    "df_baru.shape"
   ]
  },
  {
   "cell_type": "code",
   "execution_count": 122,
   "metadata": {},
   "outputs": [
    {
     "output_type": "execute_result",
     "data": {
      "text/plain": [
       "hotel                          0\n",
       "is_canceled                    0\n",
       "adults                         0\n",
       "children                       0\n",
       "babies                         0\n",
       "meal                           0\n",
       "country                        2\n",
       "market_segment                 0\n",
       "distribution_channel           0\n",
       "reserved_room_type             0\n",
       "booking_changes                0\n",
       "deposit_type                   0\n",
       "days_in_waiting_list           0\n",
       "customer_type                  0\n",
       "required_car_parking_spaces    0\n",
       "total_of_special_requests      0\n",
       "dtype: int64"
      ]
     },
     "metadata": {},
     "execution_count": 122
    }
   ],
   "source": [
    "df_baru.isna().sum()"
   ]
  },
  {
   "cell_type": "code",
   "execution_count": 128,
   "metadata": {},
   "outputs": [
    {
     "output_type": "stream",
     "name": "stdout",
     "text": [
      "<class 'pandas.core.frame.DataFrame'>\nRangeIndex: 5000 entries, 0 to 4999\nData columns (total 16 columns):\n #   Column                       Non-Null Count  Dtype  \n---  ------                       --------------  -----  \n 0   hotel                        5000 non-null   object \n 1   is_canceled                  5000 non-null   int64  \n 2   adults                       5000 non-null   int64  \n 3   children                     5000 non-null   float64\n 4   babies                       5000 non-null   int64  \n 5   meal                         5000 non-null   object \n 6   country                      4998 non-null   object \n 7   market_segment               5000 non-null   object \n 8   distribution_channel         5000 non-null   object \n 9   reserved_room_type           5000 non-null   object \n 10  booking_changes              5000 non-null   int64  \n 11  deposit_type                 5000 non-null   object \n 12  days_in_waiting_list         5000 non-null   int64  \n 13  customer_type                5000 non-null   object \n 14  required_car_parking_spaces  5000 non-null   int64  \n 15  total_of_special_requests    5000 non-null   int64  \ndtypes: float64(1), int64(7), object(8)\nmemory usage: 625.1+ KB\n"
     ]
    }
   ],
   "source": [
    "df_baru.info()"
   ]
  },
  {
   "source": [
    "karena hanya terdapat 2 missing value saja dalam fitur yang digunakan, saya memutuskan untuk men-dropna missing valuetersebut"
   ],
   "cell_type": "markdown",
   "metadata": {}
  },
  {
   "cell_type": "code",
   "execution_count": 129,
   "metadata": {},
   "outputs": [],
   "source": [
    "df_baru.dropna(inplace=True)"
   ]
  },
  {
   "cell_type": "code",
   "execution_count": 130,
   "metadata": {},
   "outputs": [
    {
     "output_type": "execute_result",
     "data": {
      "text/plain": [
       "hotel                          0\n",
       "is_canceled                    0\n",
       "adults                         0\n",
       "children                       0\n",
       "babies                         0\n",
       "meal                           0\n",
       "country                        0\n",
       "market_segment                 0\n",
       "distribution_channel           0\n",
       "reserved_room_type             0\n",
       "booking_changes                0\n",
       "deposit_type                   0\n",
       "days_in_waiting_list           0\n",
       "customer_type                  0\n",
       "required_car_parking_spaces    0\n",
       "total_of_special_requests      0\n",
       "dtype: int64"
      ]
     },
     "metadata": {},
     "execution_count": 130
    }
   ],
   "source": [
    "df_baru.isna().sum()"
   ]
  },
  {
   "cell_type": "code",
   "execution_count": 131,
   "metadata": {},
   "outputs": [
    {
     "output_type": "execute_result",
     "data": {
      "text/plain": [
       "(4998, 16)"
      ]
     },
     "metadata": {},
     "execution_count": 131
    }
   ],
   "source": [
    "df_baru.shape"
   ]
  },
  {
   "cell_type": "code",
   "execution_count": 132,
   "metadata": {},
   "outputs": [],
   "source": [
    "transformer= ColumnTransformer([\n",
    "    ('one_hot',OneHotEncoder(drop='first'),['hotel', 'meal', 'market_segment', 'country', 'distribution_channel', 'reserved_room_type', 'deposit_type', 'customer_type']),\n",
    "    ('binary_encode', ce.BinaryEncoder(),['country'])\n",
    "], remainder='passthrough')"
   ]
  },
  {
   "source": [
    "menggunakan onehot encoder karena onehot encoder dapat melakukan encode terhadap data nominal maupun ordinal\n",
    "untuk country saya menggunakan binary encoder karena country merupakan data nominal"
   ],
   "cell_type": "markdown",
   "metadata": {}
  },
  {
   "source": [
    "## Splitting Data"
   ],
   "cell_type": "markdown",
   "metadata": {}
  },
  {
   "cell_type": "code",
   "execution_count": 133,
   "metadata": {},
   "outputs": [],
   "source": [
    "from sklearn.model_selection import train_test_split"
   ]
  },
  {
   "cell_type": "code",
   "execution_count": 134,
   "metadata": {},
   "outputs": [],
   "source": [
    "X=df_baru[['hotel', 'adults', 'children', 'babies', 'meal', 'country', 'market_segment', 'distribution_channel', 'reserved_room_type', 'booking_changes', 'deposit_type', 'days_in_waiting_list', 'customer_type', 'required_car_parking_spaces', 'total_of_special_requests']]\n",
    "y=df_baru['is_canceled']"
   ]
  },
  {
   "cell_type": "code",
   "execution_count": 135,
   "metadata": {},
   "outputs": [],
   "source": [
    "X_train, X_test, y_train, y_test= train_test_split(X,y,\n",
    "    test_size=0.2,\n",
    "    stratify=y,\n",
    "    random_state=2020)"
   ]
  },
  {
   "cell_type": "code",
   "execution_count": 136,
   "metadata": {},
   "outputs": [
    {
     "output_type": "execute_result",
     "data": {
      "text/plain": [
       "(3998, 15)"
      ]
     },
     "metadata": {},
     "execution_count": 136
    }
   ],
   "source": [
    "X_train.shape"
   ]
  },
  {
   "source": [
    "## Model Benchmark"
   ],
   "cell_type": "markdown",
   "metadata": {}
  },
  {
   "cell_type": "code",
   "execution_count": 137,
   "metadata": {},
   "outputs": [],
   "source": [
    "#library\n",
    "\n",
    "from sklearn.linear_model import LogisticRegression\n",
    "from sklearn.neighbors import KNeighborsClassifier\n",
    "from sklearn.tree import DecisionTreeClassifier\n",
    "\n",
    "\n",
    "from sklearn.metrics import f1_score, classification_report\n",
    "from sklearn.model_selection import cross_val_score, StratifiedKFold\n",
    "from sklearn.pipeline import Pipeline"
   ]
  },
  {
   "cell_type": "code",
   "execution_count": null,
   "metadata": {},
   "outputs": [],
   "source": [
    "# disini saya menggunkan evaluation matrix f1 karena saya menganggap bahwa kedua masalah (false positf, dan false negatif) memiliki pengaruh terhadap finansial hotel. \n",
    "\n",
    "# pada kasus false positif, Model memprediksi user akan cancel booking (membatalkan pesanan), padahal sebenarnya/realisasinya user tidak membatalkan pesanan. hal ini akan membuat nama hotel menjadi buruk karena pelayanan dan fasilitas yang seharusnya diberikan tidak diberikan sehingga banyak review negatif dan berujung pada penurunan pengunjung\n",
    "\n",
    "# pada kasus false negatif, Model memprediksi user tidak membatalkan pesanan, padahal sebenarnya/realisasinya user cancel booking (membatalkan pesanan). hal ini akan membuat over budget bagi hotel karena telah menyediakan pelayanan dan fasilitas untuk pengunjung tetapi pengunjung membatalkan pesanan"
   ]
  },
  {
   "cell_type": "code",
   "execution_count": 165,
   "metadata": {},
   "outputs": [],
   "source": [
    "models = [\n",
    "    ['Log Regression', LogisticRegression()],\n",
    "    ['DecisionTree', DecisionTreeClassifier()],\n",
    "    ['KNeighbours', KNeighborsClassifier()]]"
   ]
  },
  {
   "source": [
    "# membuat list didalam list yang terdiri dari nama, dan model ML\n",
    "# disini saya menggunakan 3 model ML yaitu logistic regression, decision tree dan KNN\n",
    "# penggunaan ML tersebut karena data target (y) merupakan data klasifikasi"
   ],
   "cell_type": "code",
   "metadata": {},
   "execution_count": null,
   "outputs": []
  },
  {
   "cell_type": "code",
   "execution_count": 166,
   "metadata": {},
   "outputs": [],
   "source": [
    "def evaluate(models):\n",
    "    model_name=[]\n",
    "    f1_score=[]\n",
    "    f1_std=[]\n",
    "    # membuat function untuk melakukan pengujian thdp beberapa model\n",
    "\n",
    "    for name, model in models:\n",
    "        estimator=Pipeline([('preprocess',transformer),('model',model)])\n",
    "        # penggunaan pipeline untuk melakukan beberapa proces menjadi 1 process yang urut.\n",
    "\n",
    "        skfold= StratifiedKFold(n_splits=5)\n",
    "        # penguijian cross validasi untuk mengecek tingkat ke stabilan model ML.\n",
    "\n",
    "        model_name.append(name)\n",
    "        f1_score.append(cross_val_score(estimator, X_train,y_train, cv=skfold,scoring='f1').mean())\n",
    "        f1_std.append(cross_val_score(estimator, X_train,y_train, cv=skfold,scoring='f1').std())\n",
    "\n",
    "    return pd.DataFrame({\n",
    "        'model': model_name,\n",
    "        'f1_score':f1_score,\n",
    "        'f1_std':f1_std\n",
    "        })\n"
   ]
  },
  {
   "cell_type": "code",
   "execution_count": 167,
   "metadata": {},
   "outputs": [
    {
     "output_type": "execute_result",
     "data": {
      "text/plain": [
       "            model  f1_score    f1_std\n",
       "0  Log Regression  0.849323  0.004637\n",
       "1    DecisionTree  0.849093  0.012075\n",
       "2     KNeighbours  0.833174  0.009642"
      ],
      "text/html": "<div>\n<style scoped>\n    .dataframe tbody tr th:only-of-type {\n        vertical-align: middle;\n    }\n\n    .dataframe tbody tr th {\n        vertical-align: top;\n    }\n\n    .dataframe thead th {\n        text-align: right;\n    }\n</style>\n<table border=\"1\" class=\"dataframe\">\n  <thead>\n    <tr style=\"text-align: right;\">\n      <th></th>\n      <th>model</th>\n      <th>f1_score</th>\n      <th>f1_std</th>\n    </tr>\n  </thead>\n  <tbody>\n    <tr>\n      <th>0</th>\n      <td>Log Regression</td>\n      <td>0.849323</td>\n      <td>0.004637</td>\n    </tr>\n    <tr>\n      <th>1</th>\n      <td>DecisionTree</td>\n      <td>0.849093</td>\n      <td>0.012075</td>\n    </tr>\n    <tr>\n      <th>2</th>\n      <td>KNeighbours</td>\n      <td>0.833174</td>\n      <td>0.009642</td>\n    </tr>\n  </tbody>\n</table>\n</div>"
     },
     "metadata": {},
     "execution_count": 167
    }
   ],
   "source": [
    "evaluate(models)"
   ]
  },
  {
   "source": [
    "logistic regresi model terbaik apabila dilihat dari stabilitasnya. dikarenakan hasil f1 score log reg dan model lain tidak berbeda jauh, saya memutuskan untuk memilih logreg sebagai model terbaik, dengan alasan lebih stabilnya model logistic regresi"
   ],
   "cell_type": "markdown",
   "metadata": {}
  },
  {
   "source": [
    "## check benchmark preformance against test data"
   ],
   "cell_type": "markdown",
   "metadata": {}
  },
  {
   "cell_type": "code",
   "execution_count": 189,
   "metadata": {},
   "outputs": [
    {
     "output_type": "execute_result",
     "data": {
      "text/plain": [
       "0.8255234297108675"
      ]
     },
     "metadata": {},
     "execution_count": 189
    }
   ],
   "source": [
    "estimator=Pipeline([('preprocess',transformer),('model',LogisticRegression())])\n",
    "estimator.fit(X_train,y_train)\n",
    "f1_score(y_test, estimator.predict(X_test))"
   ]
  },
  {
   "source": [
    "untuk mengetahui performa model, lakukan pengujian ulang dengan menggunakkan pipeline. untuk melihat score digunakan f1 score"
   ],
   "cell_type": "markdown",
   "metadata": {}
  },
  {
   "source": [
    "## Hyperparameter Tuning"
   ],
   "cell_type": "markdown",
   "metadata": {}
  },
  {
   "cell_type": "code",
   "execution_count": 142,
   "metadata": {},
   "outputs": [],
   "source": [
    "from sklearn.model_selection import GridSearchCV"
   ]
  },
  {
   "cell_type": "code",
   "execution_count": 183,
   "metadata": {},
   "outputs": [],
   "source": [
    "hyperparam_space = {\n",
    "    'model__C':[0.001,0.01,0.1,1,10,100],\n",
    "    'model__solver':['liblinear', 'sag', 'saga'],\n",
    "}"
   ]
  },
  {
   "source": [
    "di atas merupakan contoh parameter dari logistic regression yang saya gunakan dalam hyperparameter tuning\n",
    "\n",
    "hyperparameter tuning digunakan untuk meihat parameter terbaik apa yang harus digunakan. Hyperparameter tuning ini dapat membatu untuk meningkatkan performa model terpilih"
   ],
   "cell_type": "markdown",
   "metadata": {}
  },
  {
   "cell_type": "code",
   "execution_count": 184,
   "metadata": {},
   "outputs": [
    {
     "output_type": "execute_result",
     "data": {
      "text/plain": [
       "GridSearchCV(cv=StratifiedKFold(n_splits=5, random_state=None, shuffle=False),\n",
       "             estimator=Pipeline(steps=[('preprocess',\n",
       "                                        ColumnTransformer(remainder='passthrough',\n",
       "                                                          transformers=[('one_hot',\n",
       "                                                                         OneHotEncoder(drop='first'),\n",
       "                                                                         ['hotel',\n",
       "                                                                          'meal',\n",
       "                                                                          'market_segment',\n",
       "                                                                          'distribution_channel',\n",
       "                                                                          'reserved_room_type',\n",
       "                                                                          'deposit_type',\n",
       "                                                                          'customer_type']),\n",
       "                                                                        ('binary_encode',\n",
       "                                                                         BinaryEncoder(),\n",
       "                                                                         ['country'])])),\n",
       "                                       ('model', LogisticRegression())]),\n",
       "             param_grid={'model__C': [0.001, 0.01, 0.1, 1, 10, 100],\n",
       "                         'model__solver': ['liblinear', 'sag', 'saga']},\n",
       "             scoring='f1')"
      ]
     },
     "metadata": {},
     "execution_count": 184
    }
   ],
   "source": [
    "estimator=Pipeline([('preprocess',transformer),('model',LogisticRegression())])\n",
    "\n",
    "skfold= StratifiedKFold(n_splits=5)\n",
    "\n",
    "grid= GridSearchCV(estimator,param_grid=hyperparam_space,cv=skfold,scoring='f1')\n",
    "grid.fit(X_train,y_train)"
   ]
  },
  {
   "source": [
    "selanjutnya menggunakkan grid search untuk mendapatkan parameter terbaik, dan juga dalam proses ini juga dilakukan cross validation  (skfold) untuk melihat ke stabilan model"
   ],
   "cell_type": "markdown",
   "metadata": {}
  },
  {
   "cell_type": "code",
   "execution_count": 185,
   "metadata": {},
   "outputs": [
    {
     "output_type": "execute_result",
     "data": {
      "text/plain": [
       "{'model__C': 100, 'model__solver': 'liblinear'}"
      ]
     },
     "metadata": {},
     "execution_count": 185
    }
   ],
   "source": [
    "grid.best_params_"
   ]
  },
  {
   "cell_type": "code",
   "execution_count": 186,
   "metadata": {},
   "outputs": [
    {
     "output_type": "execute_result",
     "data": {
      "text/plain": [
       "0.8536539139056083"
      ]
     },
     "metadata": {},
     "execution_count": 186
    }
   ],
   "source": [
    "grid.best_score_"
   ]
  },
  {
   "source": [
    "## check preformance model against test data after Hyperparameter Tuning"
   ],
   "cell_type": "markdown",
   "metadata": {}
  },
  {
   "cell_type": "code",
   "execution_count": 187,
   "metadata": {},
   "outputs": [
    {
     "output_type": "execute_result",
     "data": {
      "text/plain": [
       "0.8288822947576657"
      ]
     },
     "metadata": {},
     "execution_count": 187
    }
   ],
   "source": [
    "grid.best_estimator_.fit(X_train,y_train)\n",
    "f1_score(y_test,grid.best_estimator_.predict(X_test))"
   ]
  },
  {
   "source": [
    "setelah melakukan hyperparameter tuning didapatkan bahwa terdapat peningkatan performa, meskipun tidak banyak dari 0.8255234297108675 menjadi 0.8288822947576657"
   ],
   "cell_type": "markdown",
   "metadata": {}
  },
  {
   "source": [
    "## Ensamble Model"
   ],
   "cell_type": "markdown",
   "metadata": {}
  },
  {
   "cell_type": "code",
   "execution_count": 194,
   "metadata": {},
   "outputs": [],
   "source": [
    "from sklearn.ensemble import RandomForestClassifier"
   ]
  },
  {
   "cell_type": "code",
   "execution_count": 191,
   "metadata": {},
   "outputs": [
    {
     "output_type": "execute_result",
     "data": {
      "text/plain": [
       "0.8492307692307693"
      ]
     },
     "metadata": {},
     "execution_count": 191
    }
   ],
   "source": [
    "estimator_1=Pipeline([('preprocess',transformer),('model',RandomForestClassifier())])\n",
    "estimator_1.fit(X_train,y_train)\n",
    "f1_score(y_test, estimator_1.predict(X_test))"
   ]
  },
  {
   "source": [
    "## Hyperparameter Tuning Ensamble Model"
   ],
   "cell_type": "markdown",
   "metadata": {}
  },
  {
   "cell_type": "code",
   "execution_count": 172,
   "metadata": {},
   "outputs": [],
   "source": [
    "from sklearn.model_selection import RandomizedSearchCV"
   ]
  },
  {
   "cell_type": "code",
   "execution_count": 173,
   "metadata": {},
   "outputs": [],
   "source": [
    "hyperparam_space = {\n",
    "    'model__criterion':['gini','entropy'],\n",
    "    'model__n_estimators':[2,5,10],\n",
    "    'model__max_depth':[2,4,6,8,10],\n",
    "    'model__min_samples_split':[1,2,4,6,8,10],\n",
    "    'model__min_samples_leaf':[1,3,5]\n",
    "}"
   ]
  },
  {
   "cell_type": "code",
   "execution_count": 176,
   "metadata": {},
   "outputs": [
    {
     "output_type": "execute_result",
     "data": {
      "text/plain": [
       "RandomizedSearchCV(cv=StratifiedKFold(n_splits=5, random_state=None, shuffle=False),\n",
       "                   estimator=Pipeline(steps=[('preprocess',\n",
       "                                              ColumnTransformer(remainder='passthrough',\n",
       "                                                                transformers=[('one_hot',\n",
       "                                                                               OneHotEncoder(drop='first'),\n",
       "                                                                               ['hotel',\n",
       "                                                                                'meal',\n",
       "                                                                                'market_segment',\n",
       "                                                                                'distribution_channel',\n",
       "                                                                                'reserved_room_type',\n",
       "                                                                                'deposit_type',\n",
       "                                                                                'customer_type']),\n",
       "                                                                              ('binary_encode',\n",
       "                                                                               BinaryEncoder(),\n",
       "                                                                               ['country'])])),\n",
       "                                             ('model',\n",
       "                                              RandomForestClassifier())]),\n",
       "                   param_distributions={'model__criterion': ['gini', 'entropy'],\n",
       "                                        'model__max_depth': [2, 4, 6, 8, 10],\n",
       "                                        'model__min_samples_leaf': [1, 3, 5],\n",
       "                                        'model__min_samples_split': [1, 2, 4, 6,\n",
       "                                                                     8, 10],\n",
       "                                        'model__n_estimators': [2, 5, 10]},\n",
       "                   scoring='f1')"
      ]
     },
     "metadata": {},
     "execution_count": 176
    }
   ],
   "source": [
    "estimator=Pipeline([('preprocess',transformer),('model',RandomForestClassifier())])\n",
    "\n",
    "skfold= StratifiedKFold(n_splits=5)\n",
    "\n",
    "randomized_1= RandomizedSearchCV(estimator,param_distributions=hyperparam_space,cv=skfold,scoring='f1')\n",
    "randomized_1.fit(X_train,y_train)"
   ]
  },
  {
   "source": [
    "karena keterbatasan waktu saya menggunakan randomized search"
   ],
   "cell_type": "markdown",
   "metadata": {}
  },
  {
   "cell_type": "code",
   "execution_count": 178,
   "metadata": {},
   "outputs": [
    {
     "output_type": "execute_result",
     "data": {
      "text/plain": [
       "{'model__n_estimators': 10,\n",
       " 'model__min_samples_split': 4,\n",
       " 'model__min_samples_leaf': 5,\n",
       " 'model__max_depth': 8,\n",
       " 'model__criterion': 'gini'}"
      ]
     },
     "metadata": {},
     "execution_count": 178
    }
   ],
   "source": [
    "randomized_1.best_params_"
   ]
  },
  {
   "cell_type": "code",
   "execution_count": 179,
   "metadata": {},
   "outputs": [
    {
     "output_type": "execute_result",
     "data": {
      "text/plain": [
       "0.8584045788464829"
      ]
     },
     "metadata": {},
     "execution_count": 179
    }
   ],
   "source": [
    "randomized_1.best_score_"
   ]
  },
  {
   "source": [
    "## check preformance model against test data after Hyperparameter Tuning Model Ensamble"
   ],
   "cell_type": "markdown",
   "metadata": {}
  },
  {
   "cell_type": "code",
   "execution_count": 180,
   "metadata": {},
   "outputs": [
    {
     "output_type": "execute_result",
     "data": {
      "text/plain": [
       "0.8499025341130604"
      ]
     },
     "metadata": {},
     "execution_count": 180
    }
   ],
   "source": [
    "randomized_1.best_estimator_.fit(X_train,y_train)\n",
    "f1_score(y_test,randomized_1.best_estimator_.predict(X_test))"
   ]
  },
  {
   "source": [
    "## Summary"
   ],
   "cell_type": "markdown",
   "metadata": {}
  },
  {
   "cell_type": "code",
   "execution_count": 192,
   "metadata": {},
   "outputs": [],
   "source": [
    "logreg_benchmark = f1_score(y_test, estimator.predict(X_test))\n",
    "logreg_hyperparam = f1_score(y_test,grid.best_estimator_.predict(X_test))\n",
    "randomforest_ensamble = f1_score(y_test, estimator_1.predict(X_test))\n",
    "randomforest_hyperparam = f1_score(y_test,randomized_1.best_estimator_.predict(X_test))"
   ]
  },
  {
   "cell_type": "code",
   "execution_count": 193,
   "metadata": {},
   "outputs": [
    {
     "output_type": "execute_result",
     "data": {
      "text/plain": [
       "                          method     score\n",
       "0            Logistic Regression  0.825523\n",
       "1     Logistic Regression Tuning  0.828882\n",
       "2         Random Forest Ensamble  0.849231\n",
       "3  Random Forest Ensamble Tuning  0.849903"
      ],
      "text/html": "<div>\n<style scoped>\n    .dataframe tbody tr th:only-of-type {\n        vertical-align: middle;\n    }\n\n    .dataframe tbody tr th {\n        vertical-align: top;\n    }\n\n    .dataframe thead th {\n        text-align: right;\n    }\n</style>\n<table border=\"1\" class=\"dataframe\">\n  <thead>\n    <tr style=\"text-align: right;\">\n      <th></th>\n      <th>method</th>\n      <th>score</th>\n    </tr>\n  </thead>\n  <tbody>\n    <tr>\n      <th>0</th>\n      <td>Logistic Regression</td>\n      <td>0.825523</td>\n    </tr>\n    <tr>\n      <th>1</th>\n      <td>Logistic Regression Tuning</td>\n      <td>0.828882</td>\n    </tr>\n    <tr>\n      <th>2</th>\n      <td>Random Forest Ensamble</td>\n      <td>0.849231</td>\n    </tr>\n    <tr>\n      <th>3</th>\n      <td>Random Forest Ensamble Tuning</td>\n      <td>0.849903</td>\n    </tr>\n  </tbody>\n</table>\n</div>"
     },
     "metadata": {},
     "execution_count": 193
    }
   ],
   "source": [
    "score_list = [logreg_benchmark,logreg_hyperparam,randomforest_ensamble, randomforest_hyperparam] \n",
    "model_names = ['Logistic Regression','Logistic Regression Tuning','Random Forest Ensamble','Random Forest Ensamble Tuning' ]\n",
    "df_summary = pd.DataFrame({\n",
    "    'method':model_names,\n",
    "    'score':score_list\n",
    "})\n",
    "df_summary"
   ]
  },
  {
   "source": [
    "# Model Terbaik adalah Model Random Forest Ensamble Tuning dengan score f1 0.849903"
   ],
   "cell_type": "markdown",
   "metadata": {}
  }
 ]
}